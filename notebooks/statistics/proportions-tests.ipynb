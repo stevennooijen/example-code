{
 "cells": [
  {
   "cell_type": "markdown",
   "metadata": {},
   "source": [
    "# Proportion tests"
   ]
  },
  {
   "cell_type": "code",
   "execution_count": 1,
   "metadata": {},
   "outputs": [],
   "source": [
    "import pandas as pd\n",
    "import matplotlib.pyplot as plt\n",
    "import numpy as np"
   ]
  },
  {
   "cell_type": "code",
   "execution_count": 2,
   "metadata": {},
   "outputs": [],
   "source": [
    "%matplotlib inline"
   ]
  },
  {
   "cell_type": "markdown",
   "metadata": {},
   "source": [
    "## Overview\n",
    "\n",
    "1. Proportion from **one sample**: tests the mean of a single group against a known mean.\n",
    "    - Proportions z-test\n",
    "2. Proportions from **two independent samples**: compares the means for two groups.\n",
    "    - Large samples: Z-test for proportions\n",
    "    - Small samples: Fisher’s Exact Test\n",
    "3. Proportions from **>2 independent samples**: compares the means of two or more groups.\n",
    "    - Chi-square test\n",
    "4. Proportions from **paired data**: compares means from the same group at different times (say, one year apart).\n",
    "    - McNemar’s Test\n",
    "    \n",
    "For details on part of the above overview, check out [this doc](https://courses.washington.edu/dphs568/course/Categorical%20data%20handout.pdf)."
   ]
  },
  {
   "cell_type": "markdown",
   "metadata": {},
   "source": [
    "## 1. One sample proportion test\n",
    "\n",
    "### Proportions z-test\n",
    "\n",
    "Python implementation: [`statsmodels.stats.proportion.proportions_ztest\n",
    "`](https://www.statsmodels.org/dev/generated/statsmodels.stats.proportion.proportions_ztest.html). Can be used for both one-sample and two-sample tests.\n",
    "\n",
    "Test whether a proportion is significantly different from a pre-set null hypothesis value:\n",
    "\n",
    "H0: p1 = value\n",
    "\n",
    "H1: p1 > value (one-sided)\n",
    "\n",
    "OR\n",
    "\n",
    "H1: p1 != value (two-sided)."
   ]
  },
  {
   "cell_type": "code",
   "execution_count": 3,
   "metadata": {},
   "outputs": [],
   "source": [
    "from statsmodels.stats.proportion import proportions_ztest"
   ]
  },
  {
   "cell_type": "code",
   "execution_count": 4,
   "metadata": {},
   "outputs": [],
   "source": [
    "count = 2\n",
    "nobs = 20\n",
    "value = 0  # test value"
   ]
  },
  {
   "cell_type": "code",
   "execution_count": 5,
   "metadata": {
    "scrolled": true
   },
   "outputs": [
    {
     "name": "stdout",
     "output_type": "stream",
     "text": [
      "0.136\n"
     ]
    }
   ],
   "source": [
    "stat, pval = proportions_ztest(count, nobs, value)  # two-sided by default\n",
    "print('{0:0.3f}'.format(pval))"
   ]
  },
  {
   "cell_type": "code",
   "execution_count": 6,
   "metadata": {},
   "outputs": [
    {
     "name": "stdout",
     "output_type": "stream",
     "text": [
      "0.068\n"
     ]
    }
   ],
   "source": [
    "stat, pval = proportions_ztest(count, nobs, value, 'larger')  # one-sided: prop > value\n",
    "print('{0:0.3f}'.format(pval))"
   ]
  },
  {
   "cell_type": "markdown",
   "metadata": {},
   "source": [
    "Of course the one-sided t-test has more power. But only use when you are really not sure that the effect cannot be in the other direction."
   ]
  },
  {
   "cell_type": "markdown",
   "metadata": {},
   "source": [
    "### Sample size determination\n",
    "\n",
    "The minimum sample size required depends on a couple factors (from this [blog](https://towardsdatascience.com/how-to-use-python-to-figure-out-sample-sizes-for-your-study-871f0a76a19c) for a two-sample t-test):\n",
    "\n",
    "- **The confidence level**: How confident do we need to be to ensure the results didn’t occur by chance? For a given difference in results, detecting it with higher confidence requires more sample. Typical choices here include 95% or 99% confidence, although these are just conventions.\n",
    "- **The percentage difference that we want to be able to detect**: The smaller the differences you want to be able to detect, the more sample will be required.\n",
    "- **The absolute values of the probabilities you want to detect differences on**: This is a little trickier and somewhat unique to the particular test we’re working with. It turns out that, for example, detecting a difference between 50% and 51% requires a different sample size than detecting a difference between 80% and 81%. \n",
    "\n",
    "So, to determine how many `n` we need for a significant result where `p-value < 0.05`, we need to set a percentage difference that we want to be able to detect. Let's define this as `p_difference`.\n",
    "\n",
    "Know if we know against what `value` of null hypothesis we want to test, we can play around with the `n` to find the minimal number of observations for a significant result."
   ]
  },
  {
   "cell_type": "code",
   "execution_count": 7,
   "metadata": {},
   "outputs": [],
   "source": [
    "p_difference = .1\n",
    "value = .0\n",
    "n_top = 50\n",
    "\n",
    "def get_ttest_pval(p_difference, n, value, **kwargs):\n",
    "    n_success = (p_difference+value)*n\n",
    "    _, pval = proportions_ztest(n_success, n, value, **kwargs)\n",
    "    return pval\n",
    "\n",
    "data_one_sided = [(n, get_ttest_pval(p_difference, n, value, alternative='larger'))  # set 'smaller' if p_diff < 0\n",
    "                  for n in range (1, n_top, 1)]\n",
    "\n",
    "data_two_sided = [(n, get_ttest_pval(p_difference, n, value)) \n",
    "                  for n in range (1, n_top, 1)]"
   ]
  },
  {
   "cell_type": "code",
   "execution_count": 8,
   "metadata": {
    "scrolled": false
   },
   "outputs": [
    {
     "data": {
      "image/png": "[encoded data removed]",
      "text/plain": [
       "<matplotlib.figure.Figure at 0x124a71400>"
      ]
     },
     "metadata": {},
     "output_type": "display_data"
    }
   ],
   "source": [
    "fig, ax = plt.subplots(1, 1, figsize=(16, 6))\n",
    "\n",
    "pd.DataFrame(data_one_sided, columns=('n', 'pvalue - one sided test')).set_index('n').plot(ax=ax)\n",
    "pd.DataFrame(data_two_sided, columns=('n', 'pvalue - two sided test')).set_index('n').plot(ax=ax)\n",
    "ax.plot([0, n_top], [0.05, 0.05], label='significance boundary')\n",
    "ax.legend()\n",
    "_ = ax.set_ylim([0, 1])"
   ]
  },
  {
   "cell_type": "markdown",
   "metadata": {},
   "source": [
    "The one-sided t-test has more power, and requires a smaller sample than the two-sided test."
   ]
  },
  {
   "cell_type": "markdown",
   "metadata": {},
   "source": [
    "## 2. Two sample proportion tests\n",
    "\n",
    "Comparison of two proportions from two independent samples. These are called “two-sample” tests. Our goal is usually to estimate p1–p2, the  corresponding confidence intervals, and to perform hypothesis tests on:\n",
    "\n",
    "H0: p1 – p2 = 0.\n",
    "\n",
    "### Proportions z-test\n",
    "\n",
    "Python implementation: [`statsmodels.stats.proportion.proportions_ztest\n",
    "`](https://www.statsmodels.org/dev/generated/statsmodels.stats.proportion.proportions_ztest.html).\n",
    "\n",
    "### Fisher's Exact test\n",
    "\n",
    "TBD."
   ]
  },
  {
   "cell_type": "markdown",
   "metadata": {},
   "source": [
    "## 3. Proportions from >2 independent samples\n",
    "\n",
    "### Chi-squared test\n",
    "\n",
    "Chi-square test generalizes two-sample Z-test to situation with more than two proportions. The null hypothesis is that all proportions are equal:\n",
    "\n",
    "H0: p1 = p2 = p3.\n",
    "\n",
    "In the case of just two proportions the chi-squared test is equivalent to a z-test, with the additional disadvantage that it doesn't apply to one-sided alternative hypotheses as the direction of the effect is lost in squaring the z test statistic z^2 (see [this](http://www.talkstats.com/threads/z-test-for-proportions-vs-chi-square-what-is-the-difference.69634/) and [this](https://rinterested.github.io/statistics/chi_square_same_as_z_test.html) blog).\n",
    "\n",
    "Python implementation:\n",
    "[`statsmodels.stats.proportion.proportions_chisquare`](https://www.statsmodels.org/dev/generated/statsmodels.stats.proportion.proportions_chisquare.html).\n"
   ]
  },
  {
   "cell_type": "markdown",
   "metadata": {},
   "source": [
    "## 4. Proportions from paired data\n",
    "\n",
    "### McNemar’s Test\n",
    "\n",
    "TBD."
   ]
  }
 ],
 "metadata": {
  "kernelspec": {
   "display_name": "Python 3",
   "language": "python",
   "name": "python3"
  },
  "language_info": {
   "codemirror_mode": {
    "name": "ipython",
    "version": 3
   },
   "file_extension": ".py",
   "mimetype": "text/x-python",
   "name": "python",
   "nbconvert_exporter": "python",
   "pygments_lexer": "ipython3",
   "version": "3.6.2"
  }
 },
 "nbformat": 4,
 "nbformat_minor": 2
}
