{
 "cells": [
  {
   "cell_type": "markdown",
   "metadata": {},
   "source": [
    "# API authentication using HMAC, SHA256 and BASE64\n",
    "\n",
    "Sometimes APIs are given access through the use of authentication tokens. For example in the case of the customer feedback API of [Mopinion](https://mopinion.com/), we need to create an authentication token of the following pattern:\n",
    "\n",
    "```\n",
    "BASE64( PUBLIC_KEY : HMAC.SHA256( RESOURCE_URI | JSON_BODY )\n",
    "```\n",
    "\n",
    "> The authentication token is a  Base64 encoded string, consisting of your public key, paired with an  HMAC-signature. The HMAC-signature is unique for each request and must be created following the pattern below.\n",
    "\n",
    "This notebook demonstrates how to create the above authentication token with Python. \n",
    "\n",
    "We will do demonstrate this by recreating the example listed in the [API documentation](https://developer.mopinion.com/api/#section/Authentication)."
   ]
  },
  {
   "cell_type": "code",
   "execution_count": 1,
   "metadata": {},
   "outputs": [],
   "source": [
    "expected_hmac_signature = \"8d0d693f34c58c60fc46cf3a725642dc5a43594bcc8be2537e81c904ee4dc2c1\"\n",
    "expected_auth_token = \"MTIzYWJjOjhkMGQ2OTNmMzRjNThjNjBmYzQ2Y2YzYTcyNTY0MmRjNWE0MzU5NGJjYzhiZTI1MzdlODFjOTA0ZWU0ZGMyYzE=\""
   ]
  },
  {
   "cell_type": "markdown",
   "metadata": {},
   "source": [
    "## Step 1:  Create the HMAC key\n",
    "\n",
    "> The HMAC signature must be created using SHA256-hashing, and encrypted with your signature token.\n",
    "\n",
    "This can be done with the below code. Note:\n",
    "* Adding the seperators argument in the `json.dumps()` call avoids adding white spaces.\n",
    "* `hmac.new()` needs a bytes or bytearray object. Hence the `bytes()` function call.\n",
    "* The SHA256-hashing is provided through the `digestmod=hashlib.sha256` argument.\n",
    "* `.hexdigest()` returns the signature in the required hexadecimal format."
   ]
  },
  {
   "cell_type": "code",
   "execution_count": 2,
   "metadata": {},
   "outputs": [
    {
     "name": "stdout",
     "output_type": "stream",
     "text": [
      "True\n"
     ]
    }
   ],
   "source": [
    "import hmac\n",
    "import hashlib\n",
    "import json\n",
    "\n",
    "# example data\n",
    "signature_token = \"$1gn47ur3T0k3n\"\n",
    "resource_uri = '/reports'\n",
    "json_body = {\n",
    "    \"name\":\"My new report\",\n",
    "    \"language\":\"en\"\n",
    "}\n",
    "\n",
    "# create payload\n",
    "json_string = json.dumps(json_body, separators=(',', ':'))\n",
    "message = '{}|{}'.format(resource_uri, json_string)\n",
    "\n",
    "# create HMAC-signature\n",
    "hmac_signature = hmac.new(\n",
    "    bytes(signature_token, 'ascii'), \n",
    "    msg = bytes(message, 'ascii'), \n",
    "    digestmod = hashlib.sha256\n",
    ").hexdigest()\n",
    "\n",
    "# validate if correct\n",
    "print(hmac_signature == expected_hmac_signature)"
   ]
  },
  {
   "cell_type": "markdown",
   "metadata": {},
   "source": [
    "## Step 2:  Create the authentication token\n",
    "\n",
    "In a second step we need to combine the public key with the above created HMAC-signature in a Base64 encoded string. \n",
    "\n",
    "This can be done using the `base64` library:"
   ]
  },
  {
   "cell_type": "code",
   "execution_count": 3,
   "metadata": {},
   "outputs": [
    {
     "name": "stdout",
     "output_type": "stream",
     "text": [
      "True\n"
     ]
    }
   ],
   "source": [
    "import base64\n",
    "\n",
    "# example data\n",
    "public_key = '123abc'\n",
    "\n",
    "# payload\n",
    "message = '{}:{}'.format(public_key, hmac_signature)\n",
    "\n",
    "# create authentication token\n",
    "message_bytes = message.encode('ascii')\n",
    "base64_bytes = base64.b64encode(message_bytes)\n",
    "auth_token = base64_bytes.decode('ascii')\n",
    "\n",
    "# validate if correct\n",
    "print(auth_token == expected_auth_token)"
   ]
  },
  {
   "cell_type": "markdown",
   "metadata": {},
   "source": [
    "That's it!\n",
    "\n",
    "Done."
   ]
  }
 ],
 "metadata": {
  "kernelspec": {
   "display_name": "Python 3",
   "language": "python",
   "name": "python3"
  },
  "language_info": {
   "codemirror_mode": {
    "name": "ipython",
    "version": 3
   },
   "file_extension": ".py",
   "mimetype": "text/x-python",
   "name": "python",
   "nbconvert_exporter": "python",
   "pygments_lexer": "ipython3",
   "version": "3.7.2"
  }
 },
 "nbformat": 4,
 "nbformat_minor": 2
}
