{
 "cells": [
  {
   "cell_type": "markdown",
   "id": "cleared-missile",
   "metadata": {},
   "source": [
    "# Example for website scraping\n",
    "\n",
    "In this specific example, we are looking for Dutch nature areas with a certain lookup word in it. The process is as follows:\n",
    "1. Parse a list with urls of all nature areas from www.natura2000.nl/gebieden.\n",
    "2. Retrieve all text from each of the nature pages.\n",
    "3. Search for the lookup words in the text and return their occurances.\n",
    "\n",
    "Scrape and parse using the `requests` and `BeautifulSoup` libraries. Use `pandas` only for tidying up the output."
   ]
  },
  {
   "cell_type": "code",
   "execution_count": null,
   "id": "southwest-madonna",
   "metadata": {},
   "outputs": [],
   "source": [
    "from bs4 import BeautifulSoup\n",
    "import pandas as pd\n",
    "import requests"
   ]
  },
  {
   "cell_type": "markdown",
   "id": "seven-capital",
   "metadata": {},
   "source": [
    "We are scraping the natura2000 website which has an overview of all nature areas in the Netherlands."
   ]
  },
  {
   "cell_type": "code",
   "execution_count": null,
   "id": "verbal-letters",
   "metadata": {},
   "outputs": [],
   "source": [
    "URL = 'https://www.natura2000.nl'\n",
    "\n",
    "lookup_words = ['water', 'vijf']"
   ]
  },
  {
   "cell_type": "markdown",
   "id": "overhead-requirement",
   "metadata": {},
   "source": [
    "### 1. Get urls of all nature areas"
   ]
  },
  {
   "cell_type": "code",
   "execution_count": null,
   "id": "periodic-commodity",
   "metadata": {},
   "outputs": [],
   "source": [
    "page = requests.get(URL + '/gebieden')\n",
    "soup = BeautifulSoup(page.content, \"html.parser\")"
   ]
  },
  {
   "cell_type": "code",
   "execution_count": null,
   "id": "organizational-virtue",
   "metadata": {},
   "outputs": [],
   "source": [
    "gebieden_urls = [gebied.find('a')['href'] for gebied in \n",
    "                 soup.find_all(\"li\", class_=\"gebieden-row\")]"
   ]
  },
  {
   "cell_type": "markdown",
   "id": "fancy-cleaner",
   "metadata": {},
   "source": [
    "### 2. Parse text on each nature page"
   ]
  },
  {
   "cell_type": "code",
   "execution_count": null,
   "id": "canadian-future",
   "metadata": {},
   "outputs": [],
   "source": [
    "gebieden_pages = [\n",
    "    BeautifulSoup(requests.get(URL + gebied_url).content, \"html.parser\") \n",
    "    for gebied_url in gebieden_urls\n",
    "]"
   ]
  },
  {
   "cell_type": "code",
   "execution_count": null,
   "id": "included-cookie",
   "metadata": {},
   "outputs": [],
   "source": [
    "# retrieve area name from HTML\n",
    "gebieden_names = [\n",
    "    gebied_page.select_one(\"h1 span\").text\n",
    "    for gebied_page in gebieden_pages\n",
    "]\n",
    "\n",
    "# concatenate all HTML text paragraphs on a page into one single string\n",
    "gebieden_text = [\n",
    "    \" \".join(\n",
    "        [textbox.text for textbox in \n",
    "         gebied_page.find_all(\"div\", class_=\"field field--name-field-body content-item\")]\n",
    "    ).replace('\\n', ' ')\n",
    "    for gebied_page in gebieden_pages\n",
    "]"
   ]
  },
  {
   "cell_type": "markdown",
   "id": "abroad-camcorder",
   "metadata": {},
   "source": [
    "### 3. Return dataframe of areas with a count for each lookup word"
   ]
  },
  {
   "cell_type": "code",
   "execution_count": null,
   "id": "simplified-christopher",
   "metadata": {},
   "outputs": [],
   "source": [
    "def count_word_occurance(texts: list, word: str):\n",
    "    return [text.lower().count(word) for text in texts]\n",
    "\n",
    "output_df = pd.DataFrame({\n",
    "    'Area': gebieden_names,\n",
    "    'URL': [URL + gebied_url for gebied_url in gebieden_urls],\n",
    "    # iteration yielding word counts per lookup word\n",
    "     **{'count_'+word:count_word_occurance(gebieden_text, word) for word in lookup_words}\n",
    "})\n",
    "\n",
    "output_df.to_csv('word_count_per_area.csv')"
   ]
  },
  {
   "cell_type": "markdown",
   "id": "otherwise-tradition",
   "metadata": {},
   "source": [
    "Done."
   ]
  }
 ],
 "metadata": {
  "kernelspec": {
   "display_name": "Python 3",
   "language": "python",
   "name": "python3"
  },
  "language_info": {
   "codemirror_mode": {
    "name": "ipython",
    "version": 3
   },
   "file_extension": ".py",
   "mimetype": "text/x-python",
   "name": "python",
   "nbconvert_exporter": "python",
   "pygments_lexer": "ipython3",
   "version": "3.8.5"
  }
 },
 "nbformat": 4,
 "nbformat_minor": 5
}
