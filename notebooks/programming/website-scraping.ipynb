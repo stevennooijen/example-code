{
 "cells": [
  {
   "cell_type": "markdown",
   "id": "cleared-missile",
   "metadata": {},
   "source": [
    "# Example for website scraping\n",
    "\n",
    "In this specific example, we are looking for Dutch nature areas with a certain lookup word in it. The process is as follows:\n",
    "1. Parse a list with urls of all nature areas from www.natura2000.nl/gebieden.\n",
    "2. Retrieve all text from each of the nature pages.\n",
    "3. Search for the lookup word in the text and return those areas that contain the word.\n",
    "\n",
    "Scrape and parse using the `requests` and `BeautifulSoup` libraries."
   ]
  },
  {
   "cell_type": "code",
   "execution_count": null,
   "id": "southwest-madonna",
   "metadata": {},
   "outputs": [],
   "source": [
    "from bs4 import BeautifulSoup\n",
    "import requests"
   ]
  },
  {
   "cell_type": "markdown",
   "id": "seven-capital",
   "metadata": {},
   "source": [
    "We are scraping the natura2000 website which has an overview of all nature areas in the Netherlands."
   ]
  },
  {
   "cell_type": "code",
   "execution_count": null,
   "id": "verbal-letters",
   "metadata": {},
   "outputs": [],
   "source": [
    "URL = 'https://www.natura2000.nl'\n",
    "\n",
    "lookup_word = ' vijf '"
   ]
  },
  {
   "cell_type": "markdown",
   "id": "overhead-requirement",
   "metadata": {},
   "source": [
    "### 1. Get urls of all nature areas"
   ]
  },
  {
   "cell_type": "code",
   "execution_count": null,
   "id": "periodic-commodity",
   "metadata": {},
   "outputs": [],
   "source": [
    "page = requests.get(URL + '/gebieden')\n",
    "soup = BeautifulSoup(page.content, \"html.parser\")"
   ]
  },
  {
   "cell_type": "code",
   "execution_count": null,
   "id": "organizational-virtue",
   "metadata": {},
   "outputs": [],
   "source": [
    "gebieden_urls = [gebied.find('a')['href'] for gebied in \n",
    "                 soup.find_all(\"li\", class_=\"gebieden-row\")]"
   ]
  },
  {
   "cell_type": "markdown",
   "id": "fancy-cleaner",
   "metadata": {},
   "source": [
    "### 2. Parse text on each nature page"
   ]
  },
  {
   "cell_type": "code",
   "execution_count": null,
   "id": "canadian-future",
   "metadata": {},
   "outputs": [],
   "source": [
    "gebieden_pages = [\n",
    "    BeautifulSoup(requests.get(URL + gebied_url).content, \"html.parser\") \n",
    "    for gebied_url in gebieden_urls\n",
    "]"
   ]
  },
  {
   "cell_type": "code",
   "execution_count": null,
   "id": "included-cookie",
   "metadata": {},
   "outputs": [],
   "source": [
    "# concatenate all paragraphs on a page into one big string\n",
    "gebieden_text = [\n",
    "    \" \".join(\n",
    "        [textbox.text for textbox in \n",
    "         gebied_page.find_all(\"div\", class_=\"field field--name-field-body content-item\")]\n",
    "    ).replace('\\n', ' ')\n",
    "    for gebied_page in gebieden_pages\n",
    "]"
   ]
  },
  {
   "cell_type": "markdown",
   "id": "abroad-camcorder",
   "metadata": {},
   "source": [
    "### 3. Return areas with the lookup word in it"
   ]
  },
  {
   "cell_type": "code",
   "execution_count": null,
   "id": "outside-party",
   "metadata": {},
   "outputs": [],
   "source": [
    "gebieden_met_vijf = [\n",
    "    lookup_word in gebied_text \n",
    "    for gebied_text in gebieden_text\n",
    "]\n",
    "\n",
    "# list urls of nature areas with the lookup_word in it\n",
    "[\n",
    "    URL + gebieden_urls[i] for i in \n",
    "    [i for i, x in enumerate(gebieden_met_vijf) if x]\n",
    "]"
   ]
  },
  {
   "cell_type": "markdown",
   "id": "otherwise-tradition",
   "metadata": {},
   "source": [
    "Done."
   ]
  }
 ],
 "metadata": {
  "kernelspec": {
   "display_name": "Python 3",
   "language": "python",
   "name": "python3"
  },
  "language_info": {
   "codemirror_mode": {
    "name": "ipython",
    "version": 3
   },
   "file_extension": ".py",
   "mimetype": "text/x-python",
   "name": "python",
   "nbconvert_exporter": "python",
   "pygments_lexer": "ipython3",
   "version": "3.8.5"
  }
 },
 "nbformat": 4,
 "nbformat_minor": 5
}
