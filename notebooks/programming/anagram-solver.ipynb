{
 "cells": [
  {
   "cell_type": "markdown",
   "metadata": {},
   "source": [
    "# Multiple word anagram solver\n",
    "\n",
    "In our group of friends, we have a tradition wherein every year someone organises a weekend away of which the destinations is a suprise. Hence the name 'surprise weekend'. There will be hints provided that give clues about the destination of the weekend. This time the hint was an email with the text:"
   ]
  },
  {
   "cell_type": "code",
   "execution_count": null,
   "metadata": {},
   "outputs": [],
   "source": [
    "hint = \"haag doen oer\""
   ]
  },
  {
   "cell_type": "markdown",
   "metadata": {},
   "source": [
    "As nobody knew what to do with it, we got another hint saying it is an anagram. Needless to say, we use Python to solve the hint."
   ]
  },
  {
   "cell_type": "markdown",
   "metadata": {},
   "source": [
    "## Word lists\n",
    "\n",
    "First thing we need is a list of Dutch words to match against. \n",
    "\n",
    "In this case, we took a list of 10.000 dutch words retrieved from another [Github project](https://github.com/mxsasha/python-zxcvbn) and saved it in the `data/` directory. "
   ]
  },
  {
   "cell_type": "code",
   "execution_count": null,
   "metadata": {},
   "outputs": [],
   "source": [
    "with open('../../data/dutch10000.txt', \"r\", encoding='latin-1') as file:\n",
    "    wordlist = [word.strip() for word in file.readlines()] # remove \\n\n",
    "    \n",
    "wordlist[0:5]"
   ]
  },
  {
   "cell_type": "markdown",
   "metadata": {},
   "source": [
    "Not all words are in the vocabulaire. And one of the friends pointed out the word 'hoer' might be relevant, so let's add that one manually."
   ]
  },
  {
   "cell_type": "code",
   "execution_count": null,
   "metadata": {},
   "outputs": [],
   "source": [
    "wordlist.append('hoer')"
   ]
  },
  {
   "cell_type": "markdown",
   "metadata": {},
   "source": [
    "### Places list\n",
    "\n",
    "Another friend pointed out that we might need to match on place names as well. Thus, we find a website and prase a list of all Dutch placenames: https://www.metatopos.eu/almanak.html"
   ]
  },
  {
   "cell_type": "code",
   "execution_count": null,
   "metadata": {},
   "outputs": [],
   "source": [
    "import urllib3\n",
    "from bs4 import BeautifulSoup\n",
    "from collections import OrderedDict"
   ]
  },
  {
   "cell_type": "code",
   "execution_count": null,
   "metadata": {},
   "outputs": [],
   "source": [
    "http = urllib3.PoolManager()\n",
    "\n",
    "# request the page and parse the html\n",
    "page = http.request('GET', 'https://www.metatopos.eu/almanak.html')\n",
    "soup = BeautifulSoup(page.data, 'html.parser')\n",
    "\n",
    "# Take out the table records by their tag\n",
    "records = soup.find_all('tr')\n",
    "\n",
    "# get the place names\n",
    "places = [record.find_all('td')[1].text for record in records]\n",
    "\n",
    "# remove duplicates\n",
    "places = list(OrderedDict.fromkeys(places))\n",
    "\n",
    "print('Number of places:', len(places))"
   ]
  },
  {
   "cell_type": "markdown",
   "metadata": {},
   "source": [
    "Now let's keep the list of names that start with a capital letter for pretty printing later on, and create another list with lowercases placenames for the matching."
   ]
  },
  {
   "cell_type": "code",
   "execution_count": null,
   "metadata": {},
   "outputs": [],
   "source": [
    "placelist = [place.lower() for place in places]"
   ]
  },
  {
   "cell_type": "markdown",
   "metadata": {},
   "source": [
    "Adding `wordlist` and `placelist` to the total lookup list:"
   ]
  },
  {
   "cell_type": "code",
   "execution_count": null,
   "metadata": {},
   "outputs": [],
   "source": [
    "lookuplist = wordlist + placelist\n",
    "\n",
    "print('Number of lookup words:', len(lookuplist))"
   ]
  },
  {
   "cell_type": "markdown",
   "metadata": {},
   "source": [
    "## Anagram or Scrabble solver?\n",
    "\n",
    "To solve the puzzle we need something in between an Anagram finder and a Scrabble solver:\n",
    "* **Anagram Finder**: Takes in a string and returns its anagrams using *all* letters from the string. For example `'dgo'` maps to `['dog', 'god']`.\n",
    "* **Word Finder**: Finds all combinations of string of lengths 2, 3, .., n where n is the length of the string. Then uses the Anagram Finder to get words for those strings. This is more of the Scrabble approach wherein you don't intent to use all the letters on your board, but you are interested in finding all possible combinations.\n",
    "\n",
    "Luckily for us, open source is great and we found the perfrect [scrabble repo](https://github.com/adrielklein/scrabble-word-finder) to use for our analysis. The `AnagramFinder` and `WordFinder` classes below come from this repository. Thanks!"
   ]
  },
  {
   "cell_type": "code",
   "execution_count": null,
   "metadata": {},
   "outputs": [],
   "source": [
    "from collections import defaultdict\n",
    "\n",
    "class AnagramFinder(object):\n",
    "    def __init__(self, words):\n",
    "        self._words = words\n",
    "        self._alphagram_2_words()\n",
    "\n",
    "    def _alphagram_2_words(self):\n",
    "        \"\"\"\n",
    "        Builds dictionary with keys being alphagrams, and values being a list of words.\n",
    "        \n",
    "        I.e. {'een': {'een', 'ene', 'nee'}, ...}\n",
    "        \"\"\"\n",
    "        self._result = defaultdict(lambda: set())  # save in class instead of in workzeug cache\n",
    "        for word in self._words:\n",
    "            alphagram = ''.join(sorted(word))\n",
    "            self._result[alphagram].add(word)\n",
    "\n",
    "    def get_anagrams(self, letter_string):\n",
    "        alphagram = ''.join(sorted(letter_string))\n",
    "        return sorted(list(self._result[alphagram]))"
   ]
  },
  {
   "cell_type": "markdown",
   "metadata": {},
   "source": [
    "A demonstration of the `AnagramFinder`:"
   ]
  },
  {
   "cell_type": "code",
   "execution_count": null,
   "metadata": {},
   "outputs": [],
   "source": [
    "anagram_finder = AnagramFinder(lookuplist)\n",
    "\n",
    "print('een:', anagram_finder.get_anagrams(letter_string='een'))\n",
    "print('wzolle:', anagram_finder.get_anagrams(letter_string='wzolle'))"
   ]
  },
  {
   "cell_type": "markdown",
   "metadata": {},
   "source": [
    "Now let's look into the `WordFinder`:"
   ]
  },
  {
   "cell_type": "code",
   "execution_count": null,
   "metadata": {},
   "outputs": [],
   "source": [
    "import itertools\n",
    "\n",
    "def _get_combinations(letters_string):\n",
    "    result = []\n",
    "    for i in range(2, len(letters_string) + 1):\n",
    "        for combination in itertools.combinations(letters_string, i):\n",
    "            result.append(''.join(combination))\n",
    "    return result\n",
    "\n",
    "\n",
    "class WordFinder(object):\n",
    "    def __init__(self, anagram_finder):\n",
    "        self._anagram_finder = anagram_finder\n",
    "\n",
    "    def get_words(self, letters_string):\n",
    "        words = set()\n",
    "        for combination in _get_combinations(letters_string):\n",
    "            words.update(self._anagram_finder.get_anagrams(combination))\n",
    "        return words"
   ]
  },
  {
   "cell_type": "code",
   "execution_count": null,
   "metadata": {},
   "outputs": [],
   "source": [
    "word_finder = WordFinder(AnagramFinder(wordlist))\n",
    "\n",
    "print('test:', word_finder.get_words('test'))"
   ]
  },
  {
   "cell_type": "markdown",
   "metadata": {},
   "source": [
    "Perfect, now let's combine both and apply it to our hint."
   ]
  },
  {
   "cell_type": "code",
   "execution_count": null,
   "metadata": {
    "scrolled": true
   },
   "outputs": [],
   "source": [
    "word_finder = WordFinder(AnagramFinder(wordlist))\n",
    "len(word_finder.get_words(hint))"
   ]
  },
  {
   "cell_type": "code",
   "execution_count": null,
   "metadata": {},
   "outputs": [],
   "source": [
    "list(word_finder.get_words(hint))[0:4]"
   ]
  },
  {
   "cell_type": "markdown",
   "metadata": {},
   "source": [
    "Great so now we can create all possible combinations from a string. For the next part, we need to integrate this with the spaces and make sure we generate 3 words (as we have 2 spaces)."
   ]
  },
  {
   "cell_type": "markdown",
   "metadata": {},
   "source": [
    "## Removing letters from string\n",
    "\n",
    "To do this, we need to keep track of which letters from the hint we have already used and we cannot use anymore for the subsequent words. \n",
    "\n",
    "Let's first write a function to substract a single letter from a string and return the result:"
   ]
  },
  {
   "cell_type": "code",
   "execution_count": null,
   "metadata": {},
   "outputs": [],
   "source": [
    "def remove_one_letter_from_string(letter, string):\n",
    "    idx = string.find(letter)\n",
    "    return string[:idx] + string[idx + 1:]"
   ]
  },
  {
   "cell_type": "code",
   "execution_count": null,
   "metadata": {
    "scrolled": true
   },
   "outputs": [],
   "source": [
    "remove_one_letter_from_string('o', hint)"
   ]
  },
  {
   "cell_type": "markdown",
   "metadata": {},
   "source": [
    "Now write a function that substracts a string (consisting of multiple letters) form another string:"
   ]
  },
  {
   "cell_type": "code",
   "execution_count": null,
   "metadata": {},
   "outputs": [],
   "source": [
    "def substract_string_from_string(string_to_remove, string_to_remove_from):\n",
    "    result = string_to_remove_from\n",
    "    for letter in string_to_remove:\n",
    "        result = remove_one_letter_from_string(letter, result)\n",
    "    return result"
   ]
  },
  {
   "cell_type": "code",
   "execution_count": null,
   "metadata": {},
   "outputs": [],
   "source": [
    "substract_string_from_string('gr', hint)"
   ]
  },
  {
   "cell_type": "markdown",
   "metadata": {},
   "source": [
    "Perfect. Now we can combine everything!"
   ]
  },
  {
   "cell_type": "markdown",
   "metadata": {},
   "source": [
    "## Combine all and solve the hint!"
   ]
  },
  {
   "cell_type": "markdown",
   "metadata": {},
   "source": [
    "To solve the hint we consider the following functional flow of our program:\n",
    "\n",
    "1. Pick a first word\n",
    "2. Apply a space and pick the second word. \n",
    "    * if not possible, go back to step 1 and try next word\n",
    "3. Apply a space and pick the last word.\n",
    "    * if not possible, go back to step 2 and try next word\n",
    "    * if combination found -> print!\n",
    "    \n",
    "In each step, we keep track of the letters that remain so that we are sure that we have used all letters of the hint at the end."
   ]
  },
  {
   "cell_type": "code",
   "execution_count": null,
   "metadata": {
    "scrolled": true
   },
   "outputs": [],
   "source": [
    "word_finder = WordFinder(AnagramFinder(lookuplist))\n",
    "\n",
    "solutions = []  # save each solution\n",
    "solutions_count = 0  # count possible solutions\n",
    "solutions_places = []  # keep track of places used in a solution\n",
    "\n",
    "# get first letters and word1 options\n",
    "word1_letters = hint.replace(\" \", \"\")\n",
    "word1_options = word_finder.get_words(word1_letters)\n",
    "for word1 in word1_options:\n",
    "    # remove letters to create word2_letters\n",
    "    word2_letters = substract_string_from_string(word1, word1_letters)\n",
    "    # run the word_finder for word2_letters\n",
    "    word2_options = word_finder.get_words(word2_letters)\n",
    "    # is it possible to make a word 3, if yes continue\n",
    "    if len(word2_options) > 0:\n",
    "        for word2 in word2_options:\n",
    "            # remove letters to create word3_letters\n",
    "            word3_letters = substract_string_from_string(word2, word2_letters)\n",
    "            # run the word_finder for word2_letters\n",
    "            word3_options = word_finder.get_words(word3_letters)\n",
    "            # check if word 3 found \n",
    "            if len(word3_options) > 0:\n",
    "                for word3 in word3_options:\n",
    "                    # AND check if all letters are exhausted:\n",
    "                    if substract_string_from_string(word3, word3_letters) == '':\n",
    "                        solution = ' '.join([word1, word2, word3])\n",
    "                        # AND check if one of the words comes from a place:\n",
    "                        if any(place in [word1, word2, word3] for place in placelist):\n",
    "                            place1 = places[placelist.index(word1)] if word1 in placelist else ''\n",
    "                            place2 = places[placelist.index(word2)] if word2 in placelist else ''\n",
    "                            place3 = places[placelist.index(word3)] if word3 in placelist else ''\n",
    "                            solutions_count += 1\n",
    "                            solutions.append(solution)\n",
    "                            solutions_places = solutions_places + [place1, place2, place3]\n",
    "                            print(solutions_count, '- places:', [place1, place2, place3], '-', solution)\n"
   ]
  },
  {
   "cell_type": "markdown",
   "metadata": {},
   "source": [
    "The solution must be somewhere in the above list! Meaning the hint is about one of the following places:"
   ]
  },
  {
   "cell_type": "code",
   "execution_count": null,
   "metadata": {},
   "outputs": [],
   "source": [
    "# deduplicate places and remove empty place ''\n",
    "solutions_places = list(OrderedDict.fromkeys(solutions_places))\n",
    "solutions_places.remove('')\n",
    "print('Mentioned places:', solutions_places)"
   ]
  },
  {
   "cell_type": "markdown",
   "metadata": {},
   "source": [
    "Interesting options:\n",
    "\n",
    "* 'naar hoog Ede'\n",
    "* 'gaan door Hee'\n",
    "\n",
    "Now let's see if we go to either one of those places.."
   ]
  },
  {
   "cell_type": "markdown",
   "metadata": {},
   "source": [
    "Done!"
   ]
  }
 ],
 "metadata": {
  "kernelspec": {
   "display_name": "Python 3",
   "language": "python",
   "name": "python3"
  },
  "language_info": {
   "codemirror_mode": {
    "name": "ipython",
    "version": 3
   },
   "file_extension": ".py",
   "mimetype": "text/x-python",
   "name": "python",
   "nbconvert_exporter": "python",
   "pygments_lexer": "ipython3",
   "version": "3.7.2"
  }
 },
 "nbformat": 4,
 "nbformat_minor": 2
}
