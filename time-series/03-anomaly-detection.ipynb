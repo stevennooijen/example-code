{
 "cells": [
  {
   "cell_type": "markdown",
   "metadata": {},
   "source": [
    "# Time Series anomaly detection\n",
    "\n",
    "Work in progress!"
   ]
  },
  {
   "cell_type": "markdown",
   "metadata": {},
   "source": [
    "## Methods\n",
    "\n",
    "Basically a question of predicting 'normal' behavior and then flagging once it's outside the confidence boundaries.\n",
    "\n",
    "The method chosen is largely impacted by having supervised data or not:\n",
    "1. If you have flagged anomalies, your model can be evaluated on its performance\n",
    "2. If there aren't defined anomalies, your model has to look for 'weird' behavior\n",
    "\n",
    "For some scenarios with flagged anomalies, you still want to explore option 2 as well. For example, when looking for security breaches, you are not only interested in the types of breaches you have known before, but also in ones that you are unaware off. This means anomaly models often need a feedback loop with an end-user who determines whether something is an anomaly or not.\n",
    "\n",
    "### setting up a simple baseline model\n",
    "\n",
    "You can go completely crazy in the model you use for estimating 'normal behavior'. For example:\n",
    "1. A rolling window: mean + standard deviation. Flag if bigger than 3* standard deviation\n",
    "    - Disadvantage is that distributions are often not normally distributed. So simple standard deviation will give wrong impression. \n",
    "2. Using percentiles to create boundaries. Not predicting a mean, but flagging if value is outside boundary determined by X% of values lying outside it. \n",
    "    - Disadvantage is that you have to come up with this percentage yourself: what do you consider anomalies? 1%, 0.5% unique values?\n",
    "    - Advantage is that it takes into account that series are not normally distributed. For example, only bucketize if the group of values is <0.5% of extreme values:\n",
    "3. A bit more advanced is to use a predictive model, which will need an uncertainty estimate of the variance to indicate boundaries for determining what is an outlier and what is not.\n",
    "\n",
    "Options 1 and 2 above generally are a good way to start. Often the business doesn't know themselves what they consider to be an outlier (unless you have labelled data!), so approaches 1 and 2 can quickly give them examples to start working with.\n"
   ]
  },
  {
   "cell_type": "markdown",
   "metadata": {},
   "source": [
    "## tools\n",
    "\n",
    "See list of tools by [rob-med](https://github.com/rob-med/awesome-TS-anomaly-detection). Multiple tools for time series anomaly detection\n",
    "\n",
    "\n",
    "### `tsoutliers`\n",
    "[`tsoutliers`](https://stats.stackexchange.com/questions/104882/detecting-outliers-in-time-series-ls-ao-tc-using-tsoutliers-package-in-r-how) package for r\n",
    "\n",
    "The package detects 5 different types of outliers iteratively in time series data:\n",
    "\n",
    "\t- Additive Outlier (AO)\n",
    "\t- Innovation Outlier (IO)\n",
    "\t- Level Shift (LS)\n",
    "\t- Temporary change (TC)\n",
    "Seasonal Level Shift (SLS)\n",
    "\n",
    "### Luminol\n",
    "\n",
    "Luminol is a light weight python library for time series data analysis. The two major functionalities it supports are anomaly detection and correlation. It can be used to investigate possible causes of anomaly.\t\n",
    "\n",
    "https://github.com/linkedin/luminol\n",
    "\n",
    "### Donut \n",
    "\n",
    "Donut is an unsupervised anomaly detection algorithm for seasonal KPIs, based on Variational Autoencoders.\t\n",
    "\n",
    "### Seasonal ESD\n",
    "\n",
    "https://github.com/nachonavarro/seasonal-esd-anomaly-detection"
   ]
  },
  {
   "cell_type": "markdown",
   "metadata": {},
   "source": [
    "Done."
   ]
  }
 ],
 "metadata": {
  "kernelspec": {
   "display_name": "Python 3",
   "language": "python",
   "name": "python3"
  },
  "language_info": {
   "codemirror_mode": {
    "name": "ipython",
    "version": 3
   },
   "file_extension": ".py",
   "mimetype": "text/x-python",
   "name": "python",
   "nbconvert_exporter": "python",
   "pygments_lexer": "ipython3",
   "version": "3.7.2"
  }
 },
 "nbformat": 4,
 "nbformat_minor": 2
}
