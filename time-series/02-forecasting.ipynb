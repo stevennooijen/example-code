{
 "cells": [
  {
   "cell_type": "markdown",
   "metadata": {},
   "source": [
    "# Time series forecasting\n",
    "\n",
    "Work in progress!"
   ]
  },
  {
   "cell_type": "markdown",
   "metadata": {},
   "source": [
    "## Methods\n",
    "\n",
    "There are quite a few different methods to predict future trends, for example, ARIMA, ARCH, regressive models, neural networks.\n",
    "\n",
    "Here's a good [notebook](https://nbviewer.jupyter.org/github/Yorko/mlcourse_open/blob/master/jupyter_english/topic09_time_series/topic9_part1_time_series_python.ipynb) on time series forecasting demonstrating some of these.\n",
    "\n",
    "### Linear model with kernel trick\n",
    "\n",
    "Pros\n",
    "\n",
    "- can use simple feature engineering trick with radial basis functions\n",
    "- this scales on any backend since we're simply using linear regression\n",
    "- we can interpret all variables\n",
    "- we can specifically argue that we only filter out the long term season, the residuals can be analyzed further with other models\n",
    "\n",
    "Cons\n",
    "\n",
    "- the model is a bit biased\n",
    "- the model wouldn't work if the seasonality changes over time"
   ]
  },
  {
   "cell_type": "markdown",
   "metadata": {},
   "source": [
    "## Tools\n",
    "\n",
    "See list of tools by [rob-med](https://github.com/rob-med/awesome-TS-anomaly-detection). Multiple tools for time series forecasting\n",
    "\n",
    "### Prophet\n",
    "\n",
    "[Prophet](https://github.com/facebook/prophet) is a procedure for forecasting time series data. It is based on an additive model where non-linear trends are fit with yearly and weekly seasonality, plus holidays.\t\n",
    "\n",
    "### `tslearn`\n",
    "\n",
    "tslearn is a Python package that provides machine learning tools for the analysis of time series. This package builds on scikit-learn, numpy and scipy libraries.\t"
   ]
  },
  {
   "cell_type": "markdown",
   "metadata": {},
   "source": [
    "Done."
   ]
  }
 ],
 "metadata": {
  "kernelspec": {
   "display_name": "Python 3",
   "language": "python",
   "name": "python3"
  },
  "language_info": {
   "codemirror_mode": {
    "name": "ipython",
    "version": 3
   },
   "file_extension": ".py",
   "mimetype": "text/x-python",
   "name": "python",
   "nbconvert_exporter": "python",
   "pygments_lexer": "ipython3",
   "version": "3.7.2"
  }
 },
 "nbformat": 4,
 "nbformat_minor": 2
}
