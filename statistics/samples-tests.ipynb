{
 "cells": [
  {
   "cell_type": "markdown",
   "metadata": {},
   "source": [
    "# Samples tests"
   ]
  },
  {
   "cell_type": "code",
   "execution_count": 1,
   "metadata": {},
   "outputs": [],
   "source": [
    "import pandas as pd\n",
    "import matplotlib.pyplot as plt\n",
    "import numpy as np"
   ]
  },
  {
   "cell_type": "code",
   "execution_count": 2,
   "metadata": {},
   "outputs": [],
   "source": [
    "%matplotlib inline"
   ]
  },
  {
   "cell_type": "markdown",
   "metadata": {},
   "source": [
    "## Overview"
   ]
  },
  {
   "cell_type": "markdown",
   "metadata": {},
   "source": [
    "### Z versus t-tests\n",
    "\n",
    "In case of small samples use t-distribution (`n < ~30` samples) which has fatter tails. Also use the Student's t test if the true variance of the populations from which the samples are extracted is unknown; and use the z test if the true variance s² of the population is known. Check out this [blog](https://keydifferences.com/difference-between-t-test-and-z-test.html) for a comparison of the two.\n",
    "\n",
    "### Test types\n",
    "\n",
    "There are three main types of z- and/or t-test, according to this [blog](https://towardsdatascience.com/inferential-statistics-series-t-test-using-numpy-2718f8f9bf2f):\n",
    "1. A **One sample t-test** tests the mean of a single group against a known mean.\n",
    "2. An **Independent Samples t-test** compares the means for two groups.\n",
    "3. A **Paired sample t-test** compares means from the same group at different times (say, one year apart).\n",
    "\n",
    "<br\\>\n",
    "![](https://keydifferences.com/wp-content/uploads/2018/03/t-test-vs-z-test.jpg)\n",
    "\n",
    "### Hypotheses\n",
    "\n",
    "One-tailed vs. two-tailed tests:\n",
    "\n",
    "H0: mu = value\n",
    "\n",
    "H1: mu > value (one-sided)\n",
    "\n",
    "OR\n",
    "\n",
    "H1: mu != value (two-sided).\n",
    "\n",
    "The kicker with one-tailed tests is that they only measure, for example, whether the new drug is better than the old one. They don’t measure whether the new drug is the same as the old drug, or if the old drug is actually better than the new one. \n",
    "\n",
    "This makes one-tailed tests convenient as they require less traffic than two-tailed ones (altough dangerous!). They show results quickly (even if those results aren’t as statistically rigorous), and, as a result, unsophisticated users love them. Be aware of the implications of not testing two-sides when using a one-sided test.\n",
    "\n",
    "### Statistical power\n",
    "\n",
    "Statistical power is simply the likelihood that the difference you’ve detected during your experiment actually reflects a difference in the real world\n",
    "\n",
    "### P-values\n",
    "\n",
    "Low p-values are good; They indicate your data did not occur by chance. For example, a p-value of .01 means there is only a 1% probability that the results from an experiment happened by chance. \n",
    "\n",
    "P-values are often compared with a pre-set significance level alpha, the probability of making a Type 1 error. Alpha is often set to 0.05, such that the confidence interval is 95% (1-0.05)."
   ]
  },
  {
   "cell_type": "markdown",
   "metadata": {},
   "source": [
    "## 0. Requirements for Z-test\n",
    "\n",
    "There's quite some [assumptions](https://www.statisticssolutions.com/manova-analysis-one-sample-t-test/)\n",
    "1. enough samples (otherwise use t distribution)\n",
    "2. normal distributed data (Q-Q plot and histogram)\n",
    "3. no outliers. (check for it using boxplots! - highly distorts results)\n",
    "4. continous variable\n",
    "5. samples are independent of one another"
   ]
  },
  {
   "cell_type": "markdown",
   "metadata": {},
   "source": [
    "### Testing normality \n",
    "\n",
    "Assess normality by looking at histogram and Q-Q plot. "
   ]
  },
  {
   "cell_type": "code",
   "execution_count": 3,
   "metadata": {
    "scrolled": true
   },
   "outputs": [],
   "source": [
    "# sample = np.random.randint(0, high=4, size=30)\n",
    "sample = np.random.poisson(3, size=30)"
   ]
  },
  {
   "cell_type": "code",
   "execution_count": 4,
   "metadata": {
    "scrolled": false
   },
   "outputs": [
    {
     "data": {
      "image/png": "[encoded data removed]",
      "text/plain": [
       "<matplotlib.figure.Figure at 0x119a696d8>"
      ]
     },
     "metadata": {},
     "output_type": "display_data"
    }
   ],
   "source": [
    "# fig, ax = plt.subplots(1, 1, figsize=(16, 6))\n",
    "plt.hist(sample, bins=len(np.unique(sample)));"
   ]
  },
  {
   "cell_type": "code",
   "execution_count": 5,
   "metadata": {},
   "outputs": [],
   "source": [
    "from scipy import stats"
   ]
  },
  {
   "cell_type": "code",
   "execution_count": 6,
   "metadata": {},
   "outputs": [
    {
     "data": {
      "image/png": "[encoded data removed]",
      "text/plain": [
       "<matplotlib.figure.Figure at 0x1277445f8>"
      ]
     },
     "metadata": {},
     "output_type": "display_data"
    }
   ],
   "source": [
    "fig, ax = plt.subplots(1, 1, figsize=(16, 6))\n",
    "res = stats.probplot(sample, plot=ax)"
   ]
  },
  {
   "cell_type": "markdown",
   "metadata": {},
   "source": [
    "### Continuous variable"
   ]
  },
  {
   "cell_type": "markdown",
   "metadata": {},
   "source": [
    "What to do in discrete cases? Obviously, not all data is completely continuous as we are not going into decimals forever. This means there is always some form of discreteness. Therefore, manual inspection by looking/observing if the data looks like a normal distribution is sufficient. "
   ]
  },
  {
   "cell_type": "markdown",
   "metadata": {},
   "source": [
    "### Testing for outliers\n",
    "\n",
    "Use a boxplot to check."
   ]
  },
  {
   "cell_type": "code",
   "execution_count": 7,
   "metadata": {},
   "outputs": [
    {
     "data": {
      "image/png": "[encoded data removed]",
      "text/plain": [
       "<matplotlib.figure.Figure at 0x10f7e2358>"
      ]
     },
     "metadata": {},
     "output_type": "display_data"
    }
   ],
   "source": [
    "plt.boxplot(sample, vert=False);"
   ]
  },
  {
   "cell_type": "markdown",
   "metadata": {},
   "source": [
    "## 1. One sample tests "
   ]
  },
  {
   "cell_type": "markdown",
   "metadata": {},
   "source": [
    "### T-test\n",
    "\n",
    "Python implementation: [`scipy.stats.ttest_1samp`](https://docs.scipy.org/doc/scipy-0.14.0/reference/generated/scipy.stats.ttest_1samp.html)"
   ]
  },
  {
   "cell_type": "code",
   "execution_count": 8,
   "metadata": {},
   "outputs": [],
   "source": [
    "from scipy.stats import ttest_1samp"
   ]
  },
  {
   "cell_type": "code",
   "execution_count": 9,
   "metadata": {},
   "outputs": [
    {
     "name": "stdout",
     "output_type": "stream",
     "text": [
      "0.685\n"
     ]
    }
   ],
   "source": [
    "test_value = 2.6\n",
    "\n",
    "stat, pval = ttest_1samp(sample, popmean=test_value)  # two-sided only\n",
    "print('{0:0.3f}'.format(pval))"
   ]
  },
  {
   "cell_type": "markdown",
   "metadata": {},
   "source": [
    "This test does a two-tailed test only. As the distribution is symmetrical, it follows that a one-tailed test can be determined from the output [manually](https://stackoverflow.com/questions/15984221/how-to-perform-two-sample-one-tailed-t-test-with-numpy-scipy): \n",
    "\n",
    "> Given p and t values from a two-tailed test, you would reject the null hypothesis of a greater-than test when `p/2 < alpha and t > 0`, and of a less-than test when `p/2 < alpha and t < 0`."
   ]
  },
  {
   "cell_type": "code",
   "execution_count": 10,
   "metadata": {},
   "outputs": [
    {
     "name": "stdout",
     "output_type": "stream",
     "text": [
      "p-val: 0.342\n",
      "t-stat: 0.410\n"
     ]
    }
   ],
   "source": [
    "print('p-val: {0:0.3f}'.format(pval/2))  # evaluate one-sided\n",
    "print('t-stat: {0:0.3f}'.format(stat))"
   ]
  },
  {
   "cell_type": "markdown",
   "metadata": {},
   "source": [
    "### Z-test\n",
    "\n",
    "Remember that this test assumes normality of the sample! Also it requires a significant amount of samples. If both not present, use a t-test which has fatter tails.\n",
    "\n",
    "Python implementation: `statsmodels`. Both for one-sample and for two-sample case:\n",
    "\n",
    "* [`ztest`](http://www.statsmodels.org/stable/generated/statsmodels.stats.weightstats.ztest.html#statsmodels.stats.weightstats.ztest) allows you to compare two means, assuming they are independent and have the same standard deviation.\n",
    "* [`CompareMeans.ztest_ind`](http://www.statsmodels.org/devel/generated/statsmodels.stats.weightstats.CompareMeans.ztest_ind.html) if you need to compare means from distributions with different standard deviation."
   ]
  },
  {
   "cell_type": "code",
   "execution_count": 11,
   "metadata": {},
   "outputs": [],
   "source": [
    "from statsmodels.stats.weightstats import ztest"
   ]
  },
  {
   "cell_type": "code",
   "execution_count": 12,
   "metadata": {},
   "outputs": [
    {
     "name": "stdout",
     "output_type": "stream",
     "text": [
      "0.341\n"
     ]
    }
   ],
   "source": [
    "stat, pval = ztest(sample, value=test_value, alternative='larger')  # two-sided by default\n",
    "print('{0:0.3f}'.format(pval))"
   ]
  },
  {
   "cell_type": "markdown",
   "metadata": {},
   "source": [
    "### Calculating sample size\n",
    "\n",
    "`statsmodels` has classes that help you calculate sample size. For example, for the one-sample t-test you can solve for any one parameter of the test with [`statsmodels.stats.power.tt_solve_power`](https://www.statsmodels.org/stable/generated/statsmodels.stats.power.tt_solve_power.html#statsmodels.stats.power.tt_solve_power)"
   ]
  },
  {
   "cell_type": "markdown",
   "metadata": {},
   "source": [
    "## 2. Independent samples test\n",
    "\n",
    "### T-test\n",
    "\n",
    "For t-tests use [`scipy.stats.ttest_ind`](https://docs.scipy.org/doc/scipy-0.14.0/reference/generated/scipy.stats.ttest_ind.html).\n",
    "\n",
    "These tests do a two-tailed test only. As the distribution is symmetrical, it follows that a one-tailed test can be determined from the output [manually](https://stackoverflow.com/questions/15984221/how-to-perform-two-sample-one-tailed-t-test-with-numpy-scipy).\n",
    "\n",
    "### Z-test\n",
    "\n",
    "For z-tests, use `statsmodels` Python implementation as mentioned above. Both for one-sample and for two-sample case.\n"
   ]
  },
  {
   "cell_type": "markdown",
   "metadata": {},
   "source": [
    "## 3. Paired sample t-test\n",
    "\n",
    "TBD."
   ]
  }
 ],
 "metadata": {
  "kernelspec": {
   "display_name": "Python 3",
   "language": "python",
   "name": "python3"
  },
  "language_info": {
   "codemirror_mode": {
    "name": "ipython",
    "version": 3
   },
   "file_extension": ".py",
   "mimetype": "text/x-python",
   "name": "python",
   "nbconvert_exporter": "python",
   "pygments_lexer": "ipython3",
   "version": "3.6.2"
  }
 },
 "nbformat": 4,
 "nbformat_minor": 2
}
