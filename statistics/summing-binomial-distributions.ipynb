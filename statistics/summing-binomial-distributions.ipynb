{
 "cells": [
  {
   "cell_type": "markdown",
   "metadata": {},
   "source": [
    "# Summing two binomial distributions"
   ]
  },
  {
   "cell_type": "code",
   "execution_count": 1,
   "metadata": {},
   "outputs": [],
   "source": [
    "from scipy.stats import binom"
   ]
  },
  {
   "cell_type": "markdown",
   "metadata": {},
   "source": [
    "## Background question\n",
    "\n",
    "Given a job vacancy with multiple candidates requested, what is the chance `n_requested` gets fulfilled?\n",
    "\n",
    "What we know:\n",
    "* Candidates that have an interview scheduled (`n_interviews`) have a certain chance of getting hired (`p_interviews`)\n",
    "* Candidates that have applied for the job (`n_applications`) have a certain chance of getting hired (`p_applications`)\n",
    "\n",
    "The chances of getting hired (true or false) for both interview and application candidates comes from historical data and can best be modelled as a binomial distribution with parameters `n` and `p`."
   ]
  },
  {
   "cell_type": "markdown",
   "metadata": {},
   "source": [
    "### The problem\n",
    "\n",
    "If `n_interviews < n_requested` and `n_applications < n_requested` there is no chance the vacancy is going to be completely fulfilled with candidates from one pool only. This means we have to look into combinations of both interview and applications candidates to fulfill the vacancy.\n",
    "\n",
    "Consider the following example case:"
   ]
  },
  {
   "cell_type": "code",
   "execution_count": 2,
   "metadata": {},
   "outputs": [],
   "source": [
    "n_requested = 3\n",
    "n_applications = 2\n",
    "p_applications = 0.1\n",
    "n_interviews = 2\n",
    "p_interviews = 0.3"
   ]
  },
  {
   "cell_type": "markdown",
   "metadata": {},
   "source": [
    "## Binomial distribution\n",
    "\n",
    "First, let's understand the binomial distribution and how we can model the chance of a request being fulfilled by just a single type of candidates first. When we understand this, we can increase the example from one to two binomial distributions.\n",
    "\n",
    "A binomial distribution can be created using `scipy.stats.binom`:"
   ]
  },
  {
   "cell_type": "code",
   "execution_count": 3,
   "metadata": {},
   "outputs": [],
   "source": [
    "binom_app = binom(n_applications, p_applications)"
   ]
  },
  {
   "cell_type": "markdown",
   "metadata": {},
   "source": [
    "The **probability mass function (PMF)** is then a function that gives the probability that a discrete random variable is exactly equal to some value. \n",
    "\n",
    "So printing the odds that exactly `k` people get hired:"
   ]
  },
  {
   "cell_type": "code",
   "execution_count": 4,
   "metadata": {},
   "outputs": [
    {
     "name": "stdout",
     "output_type": "stream",
     "text": [
      "0 0.81\n",
      "1 0.18\n",
      "2 0.01\n",
      "3 0.0\n"
     ]
    }
   ],
   "source": [
    "for k in range (n_requested + 1):\n",
    "    print(k, binom_app.pmf(k))"
   ]
  },
  {
   "cell_type": "markdown",
   "metadata": {},
   "source": [
    "In other words: there's 18% chance one applicant gets hired. And 0% that 3 applicants get hired (this is also not possible as only 2 candidates are applying).\n",
    "\n",
    "The **cumulative distribution function (CDF)** will print the probability that X will take a value less than or equal to some number. This considers all possible combinations that are possible. \n",
    "\n",
    "More usefull in our case is to look at it's complement, which gives us the probability that `more than k` applicants get hired:"
   ]
  },
  {
   "cell_type": "code",
   "execution_count": 5,
   "metadata": {},
   "outputs": [
    {
     "name": "stdout",
     "output_type": "stream",
     "text": [
      "0 0.19\n",
      "1 0.01\n",
      "2 0.0\n",
      "3 0.0\n"
     ]
    }
   ],
   "source": [
    "for k in range (n_requested + 1):\n",
    "    print(k, 1 - binom_app.cdf(k))"
   ]
  },
  {
   "cell_type": "markdown",
   "metadata": {},
   "source": [
    "So there's a 19% chance 1 or 2 applicants get hired and a 1% chance 2 applicants get hired.\n",
    "\n",
    "We can make this a generic function, that calculates the chance of a specific `n_request` being fulfilled by some binomial distributions with parameters `n_population` and `p_hired`:"
   ]
  },
  {
   "cell_type": "code",
   "execution_count": 6,
   "metadata": {},
   "outputs": [
    {
     "name": "stdout",
     "output_type": "stream",
     "text": [
      "Chance of request being fulfilled: 0.19\n"
     ]
    }
   ],
   "source": [
    "def p_request_fulfilled(n_requested, n_population, p_hired):\n",
    "    \"Calculate chance of request being fulfilled depending on population size and the chance of getting hired\"\n",
    "    binom_dist = binom(n_population, p_hired)\n",
    "    return 1 - binom_dist.cdf(n_requested - 1)\n",
    "\n",
    "print('Chance of request being fulfilled:', \n",
    "      p_request_fulfilled(1, 2, 0.1))"
   ]
  },
  {
   "cell_type": "code",
   "execution_count": 7,
   "metadata": {},
   "outputs": [
    {
     "name": "stdout",
     "output_type": "stream",
     "text": [
      "Chance of request being fulfilled: 0.01\n"
     ]
    }
   ],
   "source": [
    "print('Chance of request being fulfilled:', \n",
    "      p_request_fulfilled(2, 2, 0.1))"
   ]
  },
  {
   "cell_type": "code",
   "execution_count": 8,
   "metadata": {},
   "outputs": [
    {
     "name": "stdout",
     "output_type": "stream",
     "text": [
      "Chance of request being fulfilled: 0.1\n"
     ]
    }
   ],
   "source": [
    "print('Chance of request being fulfilled:', \n",
    "      p_request_fulfilled(1, 1, 0.1))"
   ]
  },
  {
   "cell_type": "markdown",
   "metadata": {},
   "source": [
    "These outcomes make sense."
   ]
  },
  {
   "cell_type": "markdown",
   "metadata": {},
   "source": [
    "## Summing two binomial distributions?\n",
    "\n",
    "As state earlier, the problem is that both distributions indicate that there is 0 chance of fulfilling the `n_requested` of 3 on their own. We thus have to look at their distributions together and investigate the area of overlap."
   ]
  },
  {
   "cell_type": "markdown",
   "metadata": {},
   "source": [
    "### Manual calculation for ground truth\n",
    "\n",
    "There are 3 ways in which we can fullfill the demand of `n_requested = 3`:\n",
    "\n",
    "* 2 succesfull applicants + 1 succesfull interviewiee\n",
    "* 1 succesfull applicant  + 2 succesfull interviewiees\n",
    "* 2 succesfull applicants + 2 succesfull interviewiees\n",
    "\n",
    "Let's calculate what the output chance should be using **PMF** to calculate the above exact possibilities:"
   ]
  },
  {
   "cell_type": "code",
   "execution_count": 9,
   "metadata": {},
   "outputs": [
    {
     "name": "stdout",
     "output_type": "stream",
     "text": [
      "True chance: 0.0213\n"
     ]
    }
   ],
   "source": [
    "binom_app = binom(n_applications, p_applications)\n",
    "binom_int = binom(n_interviews, p_interviews)\n",
    "\n",
    "# Calculate true chance of 3 requests to be fulfilled from two binomial distributions\n",
    "truth = binom_app.pmf(2) * binom_int.pmf(1) + \\\n",
    "        binom_app.pmf(1) * binom_int.pmf(2) + \\\n",
    "        binom_app.pmf(2) * binom_int.pmf(2)\n",
    "\n",
    "print('True chance:', truth)"
   ]
  },
  {
   "cell_type": "markdown",
   "metadata": {},
   "source": [
    "So this is what our final function should output for this specific case."
   ]
  },
  {
   "cell_type": "markdown",
   "metadata": {},
   "source": [
    "### Theory"
   ]
  },
  {
   "cell_type": "markdown",
   "metadata": {},
   "source": [
    "What is the distribution of the variable 𝑋 given: \n",
    "\n",
    "𝑋=𝑌+𝑍,\n",
    "\n",
    "where 𝑌∼ Binomial(𝑛, 𝑃𝑌) and 𝑍∼ Binomial(𝑛, 𝑃𝑍)?\n",
    "\n",
    "According to [wikipedia](https://en.wikipedia.org/wiki/Binomial_sum_variance_inequality):\n",
    "\n",
    "> the sum of independent binomial random variables is itself a binomial random variable if all the component variables share the same success probability. If success probabilities differ, the probability distribution of the sum is not binomial.\n",
    "\n",
    "As in our case 𝑃𝑌 != 𝑃𝑍, this means we know that 𝑌 will **not** be binomial itself.. meaning theory doesn't help us.\n"
   ]
  },
  {
   "cell_type": "markdown",
   "metadata": {},
   "source": [
    "### Practice\n",
    "\n",
    "An option would be to use a more \"brute force\" kind of strategy, wherein we consider both distributions and use the probability mass function to sum all the probabilities where `i_applications + j_interviews > n_requested`:"
   ]
  },
  {
   "cell_type": "code",
   "execution_count": 10,
   "metadata": {},
   "outputs": [
    {
     "name": "stdout",
     "output_type": "stream",
     "text": [
      "Chance of request being fulfilled: 0.0213\n"
     ]
    }
   ],
   "source": [
    "def p_request_fulfilled_two_binomials(n_requested, n1, n2, p1, p2):\n",
    "    \"\"\"Calculated the chance of a requested being fulfilled by considering all \n",
    "       combinations from two binomial distributions\"\"\"\n",
    "    all_probs = 0\n",
    "    binom1 = binom(n1, p1)\n",
    "    binom2 = binom(n2, p2)\n",
    "    \n",
    "    # loop over the number of candidates in application\n",
    "    for i in range(n1 + 1):\n",
    "        # loop over the number of candidates scheduled for interview\n",
    "        for j in range(n2 + 1):\n",
    "            # consider if the cases fulfills the number of candidates requested \n",
    "            if i + j >= n_requested:\n",
    "                # calculate the chance of that scenario happening and add it to the total\n",
    "                all_probs += binom1.pmf(i) * binom2.pmf(j)\n",
    "    return all_probs\n",
    "            \n",
    "print('Chance of request being fulfilled:',\n",
    "      p_request_fulfilled_two_binomials(n_requested, n_applications, n_interviews, p_applications, p_interviews))"
   ]
  },
  {
   "cell_type": "markdown",
   "metadata": {},
   "source": [
    "Looks good, as that matches with the `truth` that we expected. \n",
    "\n",
    "Let's try with another scenario:"
   ]
  },
  {
   "cell_type": "code",
   "execution_count": 11,
   "metadata": {},
   "outputs": [
    {
     "name": "stdout",
     "output_type": "stream",
     "text": [
      "Chance of request being fulfilled: 0.227249145508\n"
     ]
    }
   ],
   "source": [
    "n_requested = 10\n",
    "n_applications = 8\n",
    "p_applications = 0.5\n",
    "n_interviews = 8\n",
    "p_interviews = 0.5\n",
    "\n",
    "print('Chance of request being fulfilled:',\n",
    "      p_request_fulfilled_two_binomials(n_requested, n_applications, n_interviews, p_applications, p_interviews))"
   ]
  },
  {
   "cell_type": "markdown",
   "metadata": {},
   "source": [
    "Still makes sense. Now what if the request should be easily fulfilled?"
   ]
  },
  {
   "cell_type": "code",
   "execution_count": 12,
   "metadata": {},
   "outputs": [
    {
     "name": "stdout",
     "output_type": "stream",
     "text": [
      "Chance of request being fulfilled: 0.975184421973\n"
     ]
    }
   ],
   "source": [
    "n_requested = 1\n",
    "n_applications = 8\n",
    "p_applications = 0.1\n",
    "n_interviews = 8\n",
    "p_interviews = 0.3\n",
    "\n",
    "print('Chance of request being fulfilled:',\n",
    "      p_request_fulfilled_two_binomials(n_requested, n_applications, n_interviews, p_applications, p_interviews))"
   ]
  },
  {
   "cell_type": "markdown",
   "metadata": {},
   "source": [
    "Great!"
   ]
  },
  {
   "cell_type": "markdown",
   "metadata": {},
   "source": [
    "## Next steps\n",
    "\n",
    "The above calculations don't give you any uncertainty estimate. \n",
    "\n",
    "Possibly you could get this by using `pymc3` sampling methods."
   ]
  },
  {
   "cell_type": "markdown",
   "metadata": {},
   "source": [
    "Done."
   ]
  }
 ],
 "metadata": {
  "kernelspec": {
   "display_name": "Python 3",
   "language": "python",
   "name": "python3"
  },
  "language_info": {
   "codemirror_mode": {
    "name": "ipython",
    "version": 3
   },
   "file_extension": ".py",
   "mimetype": "text/x-python",
   "name": "python",
   "nbconvert_exporter": "python",
   "pygments_lexer": "ipython3",
   "version": "3.6.2"
  }
 },
 "nbformat": 4,
 "nbformat_minor": 2
}
